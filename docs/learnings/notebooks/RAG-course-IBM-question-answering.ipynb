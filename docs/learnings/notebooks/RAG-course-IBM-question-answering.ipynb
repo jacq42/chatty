{
 "cells": [
  {
   "cell_type": "markdown",
   "id": "05813fe2-9cc3-448b-a1f2-625200b4a2cb",
   "metadata": {},
   "source": [
    "## Setup\n",
    "\n",
    "Required libs:\n",
    "* langchain for integrating language models and retrieval models.\n",
    "* ibm-watsonx-ai for accessing the watsonx Granite language model.\n",
    "* wget for downloading files from the internet.\n",
    "* sentence-transformers for computing dense vector representations for sentences, paragraphs, and images.\n",
    "* chromadb for an open source embedding database.\n",
    "* pydantic for data validation.\n",
    "* sqlalchemy for SQL toolkit and Object-Relational Mapping (ORM)."
   ]
  },
  {
   "cell_type": "code",
   "execution_count": null,
   "id": "124d78bb-9192-4b9a-a740-a41802af7848",
   "metadata": {},
   "outputs": [],
   "source": [
    "%%capture\n",
    "!pip install langchain==0.2.6 | tail -n 1\n",
    "!pip install langchain-community==0.2.6 | tail -n 1\n",
    "!pip install ibm-watsonx-ai==1.0.10 | tail -n 1\n",
    "!pip install langchain_ibm==0.1.8 | tail -n 1\n",
    "!pip install wget==3.2 | tail -n 1\n",
    "!pip install sentence-transformers==3.0.1 | tail -n 1\n",
    "!pip install chromadb==0.5.3 | tail -n 1\n",
    "!pip install pydantic==2.8.0 | tail -n 1\n",
    "!pip install sqlalchemy==2.0.30 | tail -n 1"
   ]
  },
  {
   "cell_type": "markdown",
   "id": "546ec300-d344-4b4f-8073-45dc9ad850a0",
   "metadata": {},
   "source": [
    "## Preparing"
   ]
  },
  {
   "cell_type": "code",
   "execution_count": null,
   "id": "9c68a89b-7f15-43ae-8fa0-370ca96530ec",
   "metadata": {},
   "outputs": [],
   "source": [
    "from ibm_watsonx_ai import APIClient\n",
    "from ibm_watsonx_ai import Credentials\n",
    "import os\n",
    "\n",
    "\n",
    "credentials = Credentials(\n",
    "                   url = \"https://us-south.ml.cloud.ibm.com\",\n",
    "                  )\n",
    "\n",
    "client = APIClient(credentials)\n",
    "\n",
    "project_id  = \"skills-network\""
   ]
  },
  {
   "cell_type": "markdown",
   "id": "caddf4ec-1c1e-4b2c-bf92-e7c3e4070d10",
   "metadata": {},
   "source": [
    "## Loading\n",
    "\n",
    "CharakterTextSplitter component: \n",
    "- **Chunk size**: The chunk_size parameter specifies the maximum number of characters in each chunk. \n",
    "- **Chunk overlap**: The chunk_overlap parameter determines the number of characters that should overlap between consecutive chunks."
   ]
  },
  {
   "cell_type": "code",
   "execution_count": null,
   "id": "afa193fb-ae2f-4deb-8b46-ca983466845b",
   "metadata": {},
   "outputs": [],
   "source": [
    "import requests\n",
    "from langchain.document_loaders import TextLoader\n",
    "from langchain.text_splitter import CharacterTextSplitter\n",
    "\n",
    "# Define filename and URL\n",
    "filename = 'state_of_the_union.txt'\n",
    "url = 'https://cf-courses-data.s3.us.cloud-object-storage.appdomain.cloud/zNYlnZMW6K-9GP72DDizOQ/state-of-the-union.txt'\n",
    "\n",
    "# Download the file if it does not exist\n",
    "if not os.path.isfile(filename):\n",
    "    response = requests.get(url)\n",
    "    with open(filename, 'wb') as f:\n",
    "        f.write(response.content)\n",
    "\n",
    "# Load the document\n",
    "loader = TextLoader(filename)\n",
    "documents = loader.load()\n",
    "\n",
    "# Split the document into chunks using CharacterTextSplitter\n",
    "text_splitter = CharacterTextSplitter(chunk_size=1000, chunk_overlap=0)\n",
    "texts = text_splitter.split_documents(documents)\n",
    "\n",
    "print(f\"Number of chunks: {len(texts)}\")"
   ]
  },
  {
   "cell_type": "markdown",
   "id": "d7de8e82-2b58-4073-bb3f-01d606ce552e",
   "metadata": {},
   "source": [
    "Create an embedding model"
   ]
  },
  {
   "cell_type": "code",
   "execution_count": null,
   "id": "e6b0a8c4-6a3c-49db-94cf-9071c6da7cf3",
   "metadata": {},
   "outputs": [],
   "source": [
    "from ibm_watsonx_ai.foundation_models.utils import get_embedding_model_specs\n",
    "from langchain_ibm import WatsonxEmbeddings\n",
    "from ibm_watsonx_ai.foundation_models.utils.enums import EmbeddingTypes\n",
    "from langchain.vectorstores import Chroma\n",
    "\n",
    "get_embedding_model_specs(credentials.get('url'))\n",
    "\n",
    "# Part 1: Create Embedding Model\n",
    "# Set up the WatsonxEmbeddings object\n",
    "embeddings = WatsonxEmbeddings(\n",
    "    model_id=EmbeddingTypes.IBM_SLATE_30M_ENG.value,\n",
    "    url=credentials[\"url\"],\n",
    "    project_id=project_id\n",
    "    )\n",
    "\n",
    "# Part 2: Embed Documents and Store\n",
    "docsearch = Chroma.from_documents(texts, embeddings)\n",
    "\n",
    "# Let us print several embedding vectors.\n",
    "# Generate and print embedding vectors for a sample of the documents\n",
    "sample_texts = texts[:3]  # Taking a sample of 3 documents for demonstration\n",
    "sample_embeddings = embeddings.embed_documents([doc.page_content for doc in sample_texts])\n",
    "\n",
    "print(\"Sample Embedding Vectors:\")\n",
    "for i, embedding in enumerate(sample_embeddings):\n",
    "    print(f\"Document {i + 1} Embedding Vector: Length: {len(embedding)}; {embedding}\")"
   ]
  },
  {
   "cell_type": "markdown",
   "id": "a8696a88-37d0-416a-a546-ad0d7c0f660d",
   "metadata": {},
   "source": [
    "Need some help with watsonx.ai?"
   ]
  },
  {
   "cell_type": "code",
   "execution_count": null,
   "id": "877d287c-005c-42ce-88d7-c0b98dbf899f",
   "metadata": {},
   "outputs": [],
   "source": [
    "help(WatsonxEmbeddings)"
   ]
  },
  {
   "cell_type": "markdown",
   "id": "24ff0b14-cbb4-44a8-ab52-10897c137a1b",
   "metadata": {},
   "source": [
    "Define the model: Granite"
   ]
  },
  {
   "cell_type": "code",
   "execution_count": null,
   "id": "13317129-e883-40a7-ac97-da2ff2114afc",
   "metadata": {},
   "outputs": [],
   "source": [
    "from ibm_watsonx_ai.metanames import GenTextParamsMetaNames as GenParams\n",
    "from ibm_watsonx_ai.foundation_models.utils.enums import DecodingMethods\n",
    "from langchain_ibm import WatsonxLLM\n",
    "\n",
    "parameters = {\n",
    "    GenParams.DECODING_METHOD: DecodingMethods.GREEDY,\n",
    "    GenParams.MIN_NEW_TOKENS: 1,\n",
    "    GenParams.MAX_NEW_TOKENS: 100,\n",
    "    GenParams.STOP_SEQUENCES: [\"\\n\"],\n",
    "}\n",
    "\n",
    "# Create a dictionary to store credential information\n",
    "credentials = {\n",
    "    \"url\"    : \"https://us-south.ml.cloud.ibm.com\"\n",
    "}\n",
    "\n",
    "# Indicate the model we would like to initialize. In this case, ibm/granite-3-8b-instruct.\n",
    "model_id    = 'ibm/granite-3-8b-instruct'\n",
    "\n",
    "# Initialize some watsonx.ai model parameters\n",
    "params = {\n",
    "        \"decoding_method\": \"greedy\",\n",
    "        \"temperature\": 0.4, \n",
    "        \"min_new_tokens\": 1,\n",
    "        \"max_new_tokens\": 100,\n",
    "        #\"stop_sequences\":[\"\\n\"]\n",
    "    }\n",
    "project_id  = \"skills-network\" # <--- NOTE: specify \"skills-network\" as your project_id\n",
    "# space_id    = None\n",
    "# verify      = False\n",
    "\n",
    "watsonx_granite = WatsonxLLM(\n",
    "    model_id=model_id, \n",
    "    url=credentials[\"url\"], \n",
    "    params=params, \n",
    "    project_id=project_id, \n",
    ")\n"
   ]
  },
  {
   "cell_type": "markdown",
   "id": "f29af038-194f-45a5-acdf-e6f118aaf7f6",
   "metadata": {},
   "source": [
    "Generate a retrieve augmented response"
   ]
  },
  {
   "cell_type": "code",
   "execution_count": null,
   "id": "5a461812-dbeb-42f4-958e-f1636e3d6c6e",
   "metadata": {},
   "outputs": [],
   "source": [
    "from langchain.chains import RetrievalQA\n",
    "\n",
    "qa = RetrievalQA.from_chain_type(llm=watsonx_granite, chain_type=\"stuff\", retriever=docsearch.as_retriever())\n",
    "\n",
    "query = \"What did the president say about highway and bridges in disrepair\"\n",
    "qa.invoke(query)"
   ]
  },
  {
   "cell_type": "markdown",
   "id": "ff6a3668-ee7a-44fe-bd82-7ef59b54799d",
   "metadata": {},
   "source": [
    "Output: \n",
    "\n",
    "{'query': 'What did the president say about highway and bridges in disrepair',\n",
    " 'result': '\\n\\nThe president announced that this year, over 65,000 miles of highway and 1,500 bridges in disrepair will be fixed.'}"
   ]
  }
 ],
 "metadata": {
  "kernelspec": {
   "display_name": "Python 3 (ipykernel)",
   "language": "python",
   "name": "python3"
  },
  "language_info": {
   "codemirror_mode": {
    "name": "ipython",
    "version": 3
   },
   "file_extension": ".py",
   "mimetype": "text/x-python",
   "name": "python",
   "nbconvert_exporter": "python",
   "pygments_lexer": "ipython3",
   "version": "3.10.12"
  }
 },
 "nbformat": 4,
 "nbformat_minor": 5
}
